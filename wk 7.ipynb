{
 "cells": [
  {
   "cell_type": "code",
   "execution_count": null,
   "id": "a9ae4beb-4619-4d89-b64d-ff818726b9bb",
   "metadata": {},
   "outputs": [],
   "source": [
    "import pandas as pd\n",
    "import matplotlib.pyplot as plt\n",
    "import seaborn as sns "
   ]
  },
  {
   "cell_type": "code",
   "execution_count": null,
   "id": "b0acaa06-f7ce-4dbd-9363-a4b4186e2dbc",
   "metadata": {},
   "outputs": [],
   "source": [
    "try:\n",
    "    df = pd.read_csv('International_Education_Costs.csv')\n",
    "    print(\"Data loaded successfully!\")\n",
    "except FileNotFoundError:\n",
    "    print(\"Error: The file was not found. Please check the filename and path.\")\n",
    "except Exception as e:\n",
    "    print(f\"An error occurred: {e}\")\n",
    "\n",
    "# Display first 5 rows to get a sense of the data\n",
    "print(df.head())\n",
    "\n",
    "# View the info about columns and data types\n",
    "print(df.info())\n",
    "\n",
    "# Detect missing values\n",
    "print(df.isnull().sum())"
   ]
  },
  {
   "cell_type": "code",
   "execution_count": null,
   "id": "5a29492b-306b-4550-a23a-194b2b349cc9",
   "metadata": {},
   "outputs": [],
   "source": [
    "df_clean = df.drop_duplicates()"
   ]
  },
  {
   "cell_type": "code",
   "execution_count": null,
   "id": "464ffbc8-bf9d-4863-8923-225f10277fab",
   "metadata": {},
   "outputs": [],
   "source": [
    "df_clean = df[(df['Exchange_Rate'] <= 100) & (df['Exchange_Rate'] >= 0.9)]\n",
    "print(df_clean)\n",
    "print(df.head())\n",
    "print(df.info())\n",
    "print(df.isnull().sum())"
   ]
  },
  {
   "cell_type": "code",
   "execution_count": null,
   "id": "6f1dabc9-17e1-473c-b32c-5d557a4d3a63",
   "metadata": {},
   "outputs": [],
   "source": [
    "plt.figure(figsize=(8, 5))\n",
    "sns.histplot(df_clean['Exchange_Rate'], bins=10, kde=True)\n",
    "plt.title(\"Distribution of Exchange Rates\")\n",
    "plt.xlabel(\"Exchange Rate\")\n",
    "plt.ylabel(\"Frequency\")\n",
    "plt.tight_layout()\n",
    "plt.show()"
   ]
  },
  {
   "cell_type": "code",
   "execution_count": null,
   "id": "369cdff0-6101-4731-bc3a-85bc63a86f73",
   "metadata": {},
   "outputs": [],
   "source": [
    "plt.figure(figsize=(10, 5))\n",
    "plt.plot(range(len(df_clean)), df_clean['Living_Cost_Index'], marker='o', label='Living Cost Index')\n",
    "plt.title('Living Cost Index Over Time')\n",
    "plt.xlabel('Time Period')  \n",
    "plt.ylabel('Living Cost Index') \n",
    "plt.legend()\n",
    "plt.xticks(rotation=45)\n",
    "plt.tight_layout()\n",
    "plt.show()"
   ]
  },
  {
   "cell_type": "code",
   "execution_count": null,
   "id": "7a8b5c31-038c-4928-bc22-dd2f52c8f36d",
   "metadata": {},
   "outputs": [],
   "source": [
    "avg_exchange_rate = df_clean.groupby('Living_Cost_Index')['Exchange_Rate'].mean().reset_index()\n",
    "\n",
    "plt.figure(figsize=(8, 5))\n",
    "sns.barplot(data=avg_exchange_rate, x='Living_Cost_Index', y='Exchange_Rate')\n",
    "plt.title('Average Exchange Rate by Country')\n",
    "plt.xlabel('Living_Cost_Index')\n",
    "plt.ylabel('Average Exchange Rate')\n",
    "plt.tight_layout()\n",
    "plt.show()"
   ]
  },
  {
   "cell_type": "code",
   "execution_count": null,
   "id": "440361aa-f724-4c22-be1b-89d5661cfee3",
   "metadata": {},
   "outputs": [],
   "source": [
    "plt.figure(figsize=(8, 5))\n",
    "sns.scatterplot(data=df_clean, x='Exchange_Rate', y='Living_Cost_Index')\n",
    "plt.title('Exchange Rate vs GDP')\n",
    "plt.xlabel('Exchange Rate')\n",
    "plt.ylabel('GDP')\n",
    "plt.tight_layout()\n",
    "plt.show()"
   ]
  },
  {
   "cell_type": "code",
   "execution_count": null,
   "id": "28e0c9b3-1078-44b8-b4e1-82ade1e1849a",
   "metadata": {},
   "outputs": [],
   "source": []
  }
 ],
 "metadata": {
  "kernelspec": {
   "display_name": "anaconda-panel-2023.05-py310",
   "language": "python",
   "name": "conda-env-anaconda-panel-2023.05-py310-py"
  },
  "language_info": {
   "codemirror_mode": {
    "name": "ipython",
    "version": 3
   },
   "file_extension": ".py",
   "mimetype": "text/x-python",
   "name": "python",
   "nbconvert_exporter": "python",
   "pygments_lexer": "ipython3",
   "version": "3.11.5"
  }
 },
 "nbformat": 4,
 "nbformat_minor": 5
}
